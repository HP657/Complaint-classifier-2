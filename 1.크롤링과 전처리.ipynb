{
 "cells": [
  {
   "cell_type": "code",
   "execution_count": null,
   "metadata": {},
   "outputs": [],
   "source": [
    "import pandas as pd\n",
    "from selenium import webdriver\n",
    "from selenium.webdriver.common.by import By\n",
    "import time"
   ]
  },
  {
   "cell_type": "code",
   "execution_count": null,
   "metadata": {},
   "outputs": [],
   "source": [
    "driver = webdriver.Chrome()\n",
    "driver.get(\"https://eminwon.geumjeong.go.kr/emwp/gov/mogaha/ntis/web/emwp/cmmpotal/action/EmwpMainMgtAction.do\")"
   ]
  },
  {
   "cell_type": "code",
   "execution_count": null,
   "metadata": {},
   "outputs": [],
   "source": [
    "selector1 = '#header > div.gnbmiddle > div > div.topmenu > ul > li:nth-child(1) > a'\n",
    "driver.find_element(By.CSS_SELECTOR, selector1).click()\n",
    "time.sleep(1)\n",
    "selector2= '#allmenu > div > div:nth-child(2) > div:nth-child(2) > ul > li:nth-child(2) > a'\n",
    "driver.find_element(By.CSS_SELECTOR, selector2).click()\n",
    "time.sleep(1)\n",
    "selector3= '#pt_deal_state > option:nth-child(4)'\n",
    "driver.find_element(By.CSS_SELECTOR, selector3).click()\n",
    "time.sleep(1)\n",
    "selector4= '#searchBtn'\n",
    "driver.find_element(By.CSS_SELECTOR, selector4).click()"
   ]
  },
  {
   "cell_type": "code",
   "execution_count": null,
   "metadata": {},
   "outputs": [],
   "source": [
    "complain =[]\n",
    "answer_department = []\n",
    "complain_selector = 'body > main > div > fieldset > table > tbody > tr:nth-child(4) > td'\n",
    "answer_department_selector = 'body > main > div > table > tbody > tr:nth-child(1) > td:nth-child(2)'\n",
    "\n",
    "crawling =[complain_selector,answer_department_selector]\n",
    "data_list = [complain,answer_department]\n",
    "string = ''\n",
    "next_page = '#navigator > a.navi.navi-arrow.navi-arrow-single-right'"
   ]
  },
  {
   "cell_type": "code",
   "execution_count": null,
   "metadata": {},
   "outputs": [],
   "source": [
    "su = 0\n",
    "for k in range(1, 251):\n",
    "    for i in range(1, 21):\n",
    "        list_selector = f'#dataSetTb > table > tbody > tr:nth-child({i}) > td.td-list > a'\n",
    "        driver.find_element(By.CSS_SELECTOR, list_selector).click()\n",
    "\n",
    "        for j in range(2):\n",
    "            elements = driver.find_elements(By.CSS_SELECTOR, crawling[j])\n",
    "            \n",
    "            for element in elements:\n",
    "                text = element.text\n",
    "                string += text\n",
    "                data_list[j].append(string)\n",
    "            string = \"\"    \n",
    "        driver.back()\n",
    "        su += 1\n",
    "        print(su)\n",
    "    driver.find_element(By.CSS_SELECTOR, next_page).click()"
   ]
  },
  {
   "cell_type": "code",
   "execution_count": null,
   "metadata": {},
   "outputs": [],
   "source": [
    "df = pd.DataFrame(data_list).transpose()\n",
    "df = df.dropna()\n",
    "df"
   ]
  },
  {
   "cell_type": "code",
   "execution_count": null,
   "metadata": {},
   "outputs": [],
   "source": [
    "df_col_name ={\n",
    "    0 : '민원 내용',\n",
    "    1 : '담당부서',\n",
    "}\n",
    "df = df.rename(columns=df_col_name)\n",
    "df"
   ]
  },
  {
   "cell_type": "code",
   "execution_count": null,
   "metadata": {},
   "outputs": [],
   "source": [
    "df = df.drop_duplicates(subset=['민원 내용'])\n"
   ]
  },
  {
   "cell_type": "code",
   "execution_count": null,
   "metadata": {},
   "outputs": [],
   "source": [
    "df['담당부서'] = df['담당부서'].str.replace('매우만족\\n만족\\n보통\\n불만\\n매우만족\\n매우만족 만족 보통 불만 매우불만', '')\n",
    "df"
   ]
  },
  {
   "cell_type": "code",
   "execution_count": null,
   "metadata": {},
   "outputs": [],
   "source": [
    "word_to_exclude = '※ 연계처리내역'\n",
    "df = df[~df['담당부서'].str.contains(word_to_exclude)]"
   ]
  },
  {
   "cell_type": "code",
   "execution_count": null,
   "metadata": {},
   "outputs": [],
   "source": [
    "df.dropna()"
   ]
  },
  {
   "cell_type": "code",
   "execution_count": null,
   "metadata": {},
   "outputs": [],
   "source": [
    "counts = df['담당부서'].value_counts()\n",
    "print(counts)"
   ]
  },
  {
   "cell_type": "code",
   "execution_count": null,
   "metadata": {},
   "outputs": [],
   "source": [
    "df"
   ]
  },
  {
   "cell_type": "code",
   "execution_count": null,
   "metadata": {},
   "outputs": [],
   "source": [
    "df.to_csv('data\\output.csv', index = False)"
   ]
  }
 ],
 "metadata": {
  "kernelspec": {
   "display_name": "Python 3",
   "language": "python",
   "name": "python3"
  },
  "language_info": {
   "codemirror_mode": {
    "name": "ipython",
    "version": 3
   },
   "file_extension": ".py",
   "mimetype": "text/x-python",
   "name": "python",
   "nbconvert_exporter": "python",
   "pygments_lexer": "ipython3",
   "version": "3.11.7"
  }
 },
 "nbformat": 4,
 "nbformat_minor": 2
}
